{
 "cells": [
  {
   "cell_type": "markdown",
   "metadata": {},
   "source": [
    "# Regression Homework\n",
    "##### by Mehdi Lotfipour"
   ]
  },
  {
   "cell_type": "markdown",
   "metadata": {},
   "source": [
    "### First Part"
   ]
  },
  {
   "cell_type": "markdown",
   "metadata": {},
   "source": [
    "We start by importing main libraries:"
   ]
  },
  {
   "cell_type": "code",
   "execution_count": 1,
   "metadata": {},
   "outputs": [],
   "source": [
    "#importing libraries\n",
    "\n",
    "import pandas as pd\n",
    "import numpy as np\n",
    "import matplotlib.pylab as plt\n",
    "import random\n",
    "import itertools"
   ]
  },
  {
   "cell_type": "markdown",
   "metadata": {},
   "source": [
    "Now we look at dataset to check if there is any problem with that:"
   ]
  },
  {
   "cell_type": "code",
   "execution_count": 2,
   "metadata": {},
   "outputs": [
    {
     "data": {
      "text/html": [
       "<div>\n",
       "<style scoped>\n",
       "    .dataframe tbody tr th:only-of-type {\n",
       "        vertical-align: middle;\n",
       "    }\n",
       "\n",
       "    .dataframe tbody tr th {\n",
       "        vertical-align: top;\n",
       "    }\n",
       "\n",
       "    .dataframe thead th {\n",
       "        text-align: right;\n",
       "    }\n",
       "</style>\n",
       "<table border=\"1\" class=\"dataframe\">\n",
       "  <thead>\n",
       "    <tr style=\"text-align: right;\">\n",
       "      <th></th>\n",
       "      <th>18.0   8   307.0      130.0      3504.      12.0   70  1</th>\n",
       "      <th>chevrolet chevelle malibu</th>\n",
       "    </tr>\n",
       "  </thead>\n",
       "  <tbody>\n",
       "    <tr>\n",
       "      <th>0</th>\n",
       "      <td>15.0   8   350.0      165.0      3693.      11...</td>\n",
       "      <td>buick skylark 320</td>\n",
       "    </tr>\n",
       "    <tr>\n",
       "      <th>1</th>\n",
       "      <td>18.0   8   318.0      150.0      3436.      11...</td>\n",
       "      <td>plymouth satellite</td>\n",
       "    </tr>\n",
       "    <tr>\n",
       "      <th>2</th>\n",
       "      <td>16.0   8   304.0      150.0      3433.      12...</td>\n",
       "      <td>amc rebel sst</td>\n",
       "    </tr>\n",
       "    <tr>\n",
       "      <th>3</th>\n",
       "      <td>17.0   8   302.0      140.0      3449.      10...</td>\n",
       "      <td>ford torino</td>\n",
       "    </tr>\n",
       "    <tr>\n",
       "      <th>4</th>\n",
       "      <td>15.0   8   429.0      198.0      4341.      10...</td>\n",
       "      <td>ford galaxie 500</td>\n",
       "    </tr>\n",
       "  </tbody>\n",
       "</table>\n",
       "</div>"
      ],
      "text/plain": [
       "  18.0   8   307.0      130.0      3504.      12.0   70  1  \\\n",
       "0  15.0   8   350.0      165.0      3693.      11...         \n",
       "1  18.0   8   318.0      150.0      3436.      11...         \n",
       "2  16.0   8   304.0      150.0      3433.      12...         \n",
       "3  17.0   8   302.0      140.0      3449.      10...         \n",
       "4  15.0   8   429.0      198.0      4341.      10...         \n",
       "\n",
       "  chevrolet chevelle malibu  \n",
       "0         buick skylark 320  \n",
       "1        plymouth satellite  \n",
       "2             amc rebel sst  \n",
       "3               ford torino  \n",
       "4          ford galaxie 500  "
      ]
     },
     "metadata": {},
     "output_type": "display_data"
    }
   ],
   "source": [
    "#reading data and first check\n",
    "\n",
    "df = pd.read_table('Data/auto-mpg.data')\n",
    "display(df.head())"
   ]
  },
  {
   "cell_type": "markdown",
   "metadata": {},
   "source": [
    "The main Dataset has several problems:\n",
    "    1. There is no header and no feature names\n",
    "    2. There are only 2 columns, but should be 9\n",
    "    3. Separators aren't well defined\n",
    "So we use header = None and delimiter = r\"\\s+\" in our command and check it again:"
   ]
  },
  {
   "cell_type": "code",
   "execution_count": 3,
   "metadata": {},
   "outputs": [
    {
     "data": {
      "text/html": [
       "<div>\n",
       "<style scoped>\n",
       "    .dataframe tbody tr th:only-of-type {\n",
       "        vertical-align: middle;\n",
       "    }\n",
       "\n",
       "    .dataframe tbody tr th {\n",
       "        vertical-align: top;\n",
       "    }\n",
       "\n",
       "    .dataframe thead th {\n",
       "        text-align: right;\n",
       "    }\n",
       "</style>\n",
       "<table border=\"1\" class=\"dataframe\">\n",
       "  <thead>\n",
       "    <tr style=\"text-align: right;\">\n",
       "      <th></th>\n",
       "      <th>0</th>\n",
       "      <th>1</th>\n",
       "      <th>2</th>\n",
       "      <th>3</th>\n",
       "      <th>4</th>\n",
       "      <th>5</th>\n",
       "      <th>6</th>\n",
       "      <th>7</th>\n",
       "      <th>8</th>\n",
       "    </tr>\n",
       "  </thead>\n",
       "  <tbody>\n",
       "    <tr>\n",
       "      <th>0</th>\n",
       "      <td>18.0</td>\n",
       "      <td>8</td>\n",
       "      <td>307.0</td>\n",
       "      <td>130.0</td>\n",
       "      <td>3504.0</td>\n",
       "      <td>12.0</td>\n",
       "      <td>70</td>\n",
       "      <td>1</td>\n",
       "      <td>chevrolet chevelle malibu</td>\n",
       "    </tr>\n",
       "    <tr>\n",
       "      <th>1</th>\n",
       "      <td>15.0</td>\n",
       "      <td>8</td>\n",
       "      <td>350.0</td>\n",
       "      <td>165.0</td>\n",
       "      <td>3693.0</td>\n",
       "      <td>11.5</td>\n",
       "      <td>70</td>\n",
       "      <td>1</td>\n",
       "      <td>buick skylark 320</td>\n",
       "    </tr>\n",
       "    <tr>\n",
       "      <th>2</th>\n",
       "      <td>18.0</td>\n",
       "      <td>8</td>\n",
       "      <td>318.0</td>\n",
       "      <td>150.0</td>\n",
       "      <td>3436.0</td>\n",
       "      <td>11.0</td>\n",
       "      <td>70</td>\n",
       "      <td>1</td>\n",
       "      <td>plymouth satellite</td>\n",
       "    </tr>\n",
       "    <tr>\n",
       "      <th>3</th>\n",
       "      <td>16.0</td>\n",
       "      <td>8</td>\n",
       "      <td>304.0</td>\n",
       "      <td>150.0</td>\n",
       "      <td>3433.0</td>\n",
       "      <td>12.0</td>\n",
       "      <td>70</td>\n",
       "      <td>1</td>\n",
       "      <td>amc rebel sst</td>\n",
       "    </tr>\n",
       "    <tr>\n",
       "      <th>4</th>\n",
       "      <td>17.0</td>\n",
       "      <td>8</td>\n",
       "      <td>302.0</td>\n",
       "      <td>140.0</td>\n",
       "      <td>3449.0</td>\n",
       "      <td>10.5</td>\n",
       "      <td>70</td>\n",
       "      <td>1</td>\n",
       "      <td>ford torino</td>\n",
       "    </tr>\n",
       "  </tbody>\n",
       "</table>\n",
       "</div>"
      ],
      "text/plain": [
       "      0  1      2      3       4     5   6  7                          8\n",
       "0  18.0  8  307.0  130.0  3504.0  12.0  70  1  chevrolet chevelle malibu\n",
       "1  15.0  8  350.0  165.0  3693.0  11.5  70  1          buick skylark 320\n",
       "2  18.0  8  318.0  150.0  3436.0  11.0  70  1         plymouth satellite\n",
       "3  16.0  8  304.0  150.0  3433.0  12.0  70  1              amc rebel sst\n",
       "4  17.0  8  302.0  140.0  3449.0  10.5  70  1                ford torino"
      ]
     },
     "metadata": {},
     "output_type": "display_data"
    }
   ],
   "source": [
    "#making dataframe\n",
    "\n",
    "df = pd.read_table('auto-mpg.data', header=None, delimiter=r\"\\s+\")\n",
    "display(df.head())"
   ]
  },
  {
   "cell_type": "markdown",
   "metadata": {},
   "source": [
    "Now we have to change the column names to features of interest. We find them by checking the data source."
   ]
  },
  {
   "cell_type": "code",
   "execution_count": 4,
   "metadata": {},
   "outputs": [
    {
     "data": {
      "text/html": [
       "<div>\n",
       "<style scoped>\n",
       "    .dataframe tbody tr th:only-of-type {\n",
       "        vertical-align: middle;\n",
       "    }\n",
       "\n",
       "    .dataframe tbody tr th {\n",
       "        vertical-align: top;\n",
       "    }\n",
       "\n",
       "    .dataframe thead th {\n",
       "        text-align: right;\n",
       "    }\n",
       "</style>\n",
       "<table border=\"1\" class=\"dataframe\">\n",
       "  <thead>\n",
       "    <tr style=\"text-align: right;\">\n",
       "      <th></th>\n",
       "      <th>mpg</th>\n",
       "      <th>cylinders</th>\n",
       "      <th>displacement</th>\n",
       "      <th>horsepower</th>\n",
       "      <th>weight</th>\n",
       "      <th>acceleration</th>\n",
       "      <th>model year</th>\n",
       "      <th>origin</th>\n",
       "      <th>car name</th>\n",
       "    </tr>\n",
       "  </thead>\n",
       "  <tbody>\n",
       "    <tr>\n",
       "      <th>0</th>\n",
       "      <td>18.0</td>\n",
       "      <td>8</td>\n",
       "      <td>307.0</td>\n",
       "      <td>130.0</td>\n",
       "      <td>3504.0</td>\n",
       "      <td>12.0</td>\n",
       "      <td>70</td>\n",
       "      <td>1</td>\n",
       "      <td>chevrolet chevelle malibu</td>\n",
       "    </tr>\n",
       "    <tr>\n",
       "      <th>1</th>\n",
       "      <td>15.0</td>\n",
       "      <td>8</td>\n",
       "      <td>350.0</td>\n",
       "      <td>165.0</td>\n",
       "      <td>3693.0</td>\n",
       "      <td>11.5</td>\n",
       "      <td>70</td>\n",
       "      <td>1</td>\n",
       "      <td>buick skylark 320</td>\n",
       "    </tr>\n",
       "    <tr>\n",
       "      <th>2</th>\n",
       "      <td>18.0</td>\n",
       "      <td>8</td>\n",
       "      <td>318.0</td>\n",
       "      <td>150.0</td>\n",
       "      <td>3436.0</td>\n",
       "      <td>11.0</td>\n",
       "      <td>70</td>\n",
       "      <td>1</td>\n",
       "      <td>plymouth satellite</td>\n",
       "    </tr>\n",
       "    <tr>\n",
       "      <th>3</th>\n",
       "      <td>16.0</td>\n",
       "      <td>8</td>\n",
       "      <td>304.0</td>\n",
       "      <td>150.0</td>\n",
       "      <td>3433.0</td>\n",
       "      <td>12.0</td>\n",
       "      <td>70</td>\n",
       "      <td>1</td>\n",
       "      <td>amc rebel sst</td>\n",
       "    </tr>\n",
       "    <tr>\n",
       "      <th>4</th>\n",
       "      <td>17.0</td>\n",
       "      <td>8</td>\n",
       "      <td>302.0</td>\n",
       "      <td>140.0</td>\n",
       "      <td>3449.0</td>\n",
       "      <td>10.5</td>\n",
       "      <td>70</td>\n",
       "      <td>1</td>\n",
       "      <td>ford torino</td>\n",
       "    </tr>\n",
       "  </tbody>\n",
       "</table>\n",
       "</div>"
      ],
      "text/plain": [
       "    mpg  cylinders  displacement  horsepower  weight  acceleration  \\\n",
       "0  18.0          8         307.0       130.0  3504.0          12.0   \n",
       "1  15.0          8         350.0       165.0  3693.0          11.5   \n",
       "2  18.0          8         318.0       150.0  3436.0          11.0   \n",
       "3  16.0          8         304.0       150.0  3433.0          12.0   \n",
       "4  17.0          8         302.0       140.0  3449.0          10.5   \n",
       "\n",
       "   model year  origin                   car name  \n",
       "0          70       1  chevrolet chevelle malibu  \n",
       "1          70       1          buick skylark 320  \n",
       "2          70       1         plymouth satellite  \n",
       "3          70       1              amc rebel sst  \n",
       "4          70       1                ford torino  "
      ]
     },
     "metadata": {},
     "output_type": "display_data"
    }
   ],
   "source": [
    "#renaming the column names\n",
    "\n",
    "df = df.rename({0:'mpg', 1:'cylinders', 2:'displacement',\n",
    "           3:'horsepower', 4:'weight', 5:'acceleration',\n",
    "           6:'model year', 7:'origin', 8:'car name'}, axis=1)\n",
    "display(df.head())"
   ]
  },
  {
   "cell_type": "markdown",
   "metadata": {},
   "source": [
    "It's time to check for missing values:"
   ]
  },
  {
   "cell_type": "code",
   "execution_count": 5,
   "metadata": {},
   "outputs": [
    {
     "name": "stdout",
     "output_type": "stream",
     "text": [
      "<class 'pandas.core.frame.DataFrame'>\n",
      "RangeIndex: 392 entries, 0 to 391\n",
      "Data columns (total 9 columns):\n",
      " #   Column        Non-Null Count  Dtype  \n",
      "---  ------        --------------  -----  \n",
      " 0   mpg           392 non-null    float64\n",
      " 1   cylinders     392 non-null    int64  \n",
      " 2   displacement  392 non-null    float64\n",
      " 3   horsepower    392 non-null    float64\n",
      " 4   weight        392 non-null    float64\n",
      " 5   acceleration  392 non-null    float64\n",
      " 6   model year    392 non-null    int64  \n",
      " 7   origin        392 non-null    int64  \n",
      " 8   car name      392 non-null    object \n",
      "dtypes: float64(5), int64(3), object(1)\n",
      "memory usage: 27.7+ KB\n"
     ]
    }
   ],
   "source": [
    "#getting info about data\n",
    "\n",
    "df.info()"
   ]
  },
  {
   "cell_type": "markdown",
   "metadata": {},
   "source": [
    "There are 392 data points and there are 392 non-missing value for each feature. So all of them are numbers. Then we see the minimum of each columns to check if there is any zero instead of a number:"
   ]
  },
  {
   "cell_type": "code",
   "execution_count": 6,
   "metadata": {},
   "outputs": [
    {
     "name": "stdout",
     "output_type": "stream",
     "text": [
      "mpg                                   9\n",
      "cylinders                             3\n",
      "displacement                         68\n",
      "horsepower                           46\n",
      "weight                             1613\n",
      "acceleration                          8\n",
      "model year                           70\n",
      "origin                                1\n",
      "car name        amc ambassador brougham\n",
      "dtype: object\n"
     ]
    }
   ],
   "source": [
    "#checking minimum of each feature\n",
    "\n",
    "print(df.min())"
   ]
  },
  {
   "cell_type": "markdown",
   "metadata": {},
   "source": [
    "There isn't any zero, now we are sure that all data are fine and there is no need to take care of missing values. Next step is to normalizing the data. This step is done due to different ranges in each features. After normalization, each feature has a \"0\" mean and each \"1\" unit corresponds to one standard deviation from the mean.\n",
    "\n",
    "We use the formula for each data point x[ i ]:\n",
    "##### normalized x[ i ] = (x[ i ] - mean of x) / standard deviation of x"
   ]
  },
  {
   "cell_type": "code",
   "execution_count": 7,
   "metadata": {},
   "outputs": [
    {
     "data": {
      "text/html": [
       "<div>\n",
       "<style scoped>\n",
       "    .dataframe tbody tr th:only-of-type {\n",
       "        vertical-align: middle;\n",
       "    }\n",
       "\n",
       "    .dataframe tbody tr th {\n",
       "        vertical-align: top;\n",
       "    }\n",
       "\n",
       "    .dataframe thead th {\n",
       "        text-align: right;\n",
       "    }\n",
       "</style>\n",
       "<table border=\"1\" class=\"dataframe\">\n",
       "  <thead>\n",
       "    <tr style=\"text-align: right;\">\n",
       "      <th></th>\n",
       "      <th>mpg</th>\n",
       "      <th>cylinders</th>\n",
       "      <th>displacement</th>\n",
       "      <th>horsepower</th>\n",
       "      <th>weight</th>\n",
       "      <th>acceleration</th>\n",
       "      <th>model year</th>\n",
       "      <th>origin</th>\n",
       "      <th>car name</th>\n",
       "    </tr>\n",
       "  </thead>\n",
       "  <tbody>\n",
       "    <tr>\n",
       "      <th>0</th>\n",
       "      <td>-0.697747</td>\n",
       "      <td>1.482053</td>\n",
       "      <td>1.075915</td>\n",
       "      <td>0.663285</td>\n",
       "      <td>0.619748</td>\n",
       "      <td>-1.283618</td>\n",
       "      <td>-1.623241</td>\n",
       "      <td>-0.715726</td>\n",
       "      <td>chevrolet chevelle malibu</td>\n",
       "    </tr>\n",
       "    <tr>\n",
       "      <th>1</th>\n",
       "      <td>-1.082115</td>\n",
       "      <td>1.482053</td>\n",
       "      <td>1.486832</td>\n",
       "      <td>1.572585</td>\n",
       "      <td>0.842258</td>\n",
       "      <td>-1.464852</td>\n",
       "      <td>-1.623241</td>\n",
       "      <td>-0.715726</td>\n",
       "      <td>buick skylark 320</td>\n",
       "    </tr>\n",
       "    <tr>\n",
       "      <th>2</th>\n",
       "      <td>-0.697747</td>\n",
       "      <td>1.482053</td>\n",
       "      <td>1.181033</td>\n",
       "      <td>1.182885</td>\n",
       "      <td>0.539692</td>\n",
       "      <td>-1.646086</td>\n",
       "      <td>-1.623241</td>\n",
       "      <td>-0.715726</td>\n",
       "      <td>plymouth satellite</td>\n",
       "    </tr>\n",
       "    <tr>\n",
       "      <th>3</th>\n",
       "      <td>-0.953992</td>\n",
       "      <td>1.482053</td>\n",
       "      <td>1.047246</td>\n",
       "      <td>1.182885</td>\n",
       "      <td>0.536160</td>\n",
       "      <td>-1.283618</td>\n",
       "      <td>-1.623241</td>\n",
       "      <td>-0.715726</td>\n",
       "      <td>amc rebel sst</td>\n",
       "    </tr>\n",
       "    <tr>\n",
       "      <th>4</th>\n",
       "      <td>-0.825870</td>\n",
       "      <td>1.482053</td>\n",
       "      <td>1.028134</td>\n",
       "      <td>0.923085</td>\n",
       "      <td>0.554997</td>\n",
       "      <td>-1.827320</td>\n",
       "      <td>-1.623241</td>\n",
       "      <td>-0.715726</td>\n",
       "      <td>ford torino</td>\n",
       "    </tr>\n",
       "  </tbody>\n",
       "</table>\n",
       "</div>"
      ],
      "text/plain": [
       "        mpg  cylinders  displacement  horsepower    weight  acceleration  \\\n",
       "0 -0.697747   1.482053      1.075915    0.663285  0.619748     -1.283618   \n",
       "1 -1.082115   1.482053      1.486832    1.572585  0.842258     -1.464852   \n",
       "2 -0.697747   1.482053      1.181033    1.182885  0.539692     -1.646086   \n",
       "3 -0.953992   1.482053      1.047246    1.182885  0.536160     -1.283618   \n",
       "4 -0.825870   1.482053      1.028134    0.923085  0.554997     -1.827320   \n",
       "\n",
       "   model year    origin                   car name  \n",
       "0   -1.623241 -0.715726  chevrolet chevelle malibu  \n",
       "1   -1.623241 -0.715726          buick skylark 320  \n",
       "2   -1.623241 -0.715726         plymouth satellite  \n",
       "3   -1.623241 -0.715726              amc rebel sst  \n",
       "4   -1.623241 -0.715726                ford torino  "
      ]
     },
     "metadata": {},
     "output_type": "display_data"
    }
   ],
   "source": [
    "#normalizing the elements\n",
    "\n",
    "for col in ['mpg', 'cylinders', 'displacement', 'horsepower', 'weight', 'acceleration', 'model year', 'origin']:\n",
    "    df[col] = (df[col] - df[col].mean())/df[col].std()\n",
    "display(df.head())"
   ]
  },
  {
   "cell_type": "markdown",
   "metadata": {},
   "source": [
    "We move to numpy and make an array from the dataframe. From now we divide our dataset to two parts. We select 100 data points for training and keep the rest for testing phase. Selecting the first 100 data points are inappropriate because data is sorted by model year. So we choose 100 numbers from a uniform random variable and use it for picking data points."
   ]
  },
  {
   "cell_type": "code",
   "execution_count": 8,
   "metadata": {},
   "outputs": [],
   "source": [
    "#making an array from dataframe, removing the car name and setting all data types to float64\n",
    "\n",
    "x = df.values\n",
    "x = x[:, :-1]\n",
    "x = x.astype('float64')\n",
    "\n",
    "#generating 100 random numbers as selectors\n",
    "\n",
    "index_train = random.sample(range(392), 100)\n",
    "index_test = list(set(range(392)) - set(index_train))\n",
    "\n",
    "#dividing the data into two matrices and two target vectors\n",
    "\n",
    "train_data, train_target = x[index_train, :], x[index_train, 0]\n",
    "test_data, test_target = x[index_test, :], x[index_test, 0]\n",
    "\n",
    "#changing first column from 'mpg' to 'bias' by changing all values to one\n",
    "\n",
    "train_data[:, 0] = 1\n",
    "test_data[:, 0] = 1"
   ]
  },
  {
   "cell_type": "markdown",
   "metadata": {},
   "source": [
    "Now we have to define a function to takes data and polynomial degree, then returns the terms of polynomial basis functions which we know as 'z-table'. Then we use this table in next round to compute weights vector."
   ]
  },
  {
   "cell_type": "code",
   "execution_count": 9,
   "metadata": {},
   "outputs": [],
   "source": [
    "#this solution is for general case\n",
    "#this function makes z-table from input data and degree size\n",
    "\n",
    "def poly_basis_fun_term(x, m):\n",
    "    \n",
    "    #making all possible combination of terms and keeping its size in term_size\n",
    "    \n",
    "    terms = list(itertools.combinations_with_replacement(list(range(x.shape[1])), m))\n",
    "    terms_size = len(terms)\n",
    "    \n",
    "    #getting number of data points\n",
    "    \n",
    "    n = x.shape[0]\n",
    "    \n",
    "    #constructing z array with ones at first\n",
    "    \n",
    "    z = np.ones([n,terms_size])\n",
    "    \n",
    "    #changing z columns with respect to combinations and input data\n",
    "    \n",
    "    count = 0\n",
    "    for i in terms:\n",
    "        v = np.ones(n)\n",
    "        for j in i:\n",
    "            v = v * x[:, j]\n",
    "        z[:, count] = v\n",
    "        count += 1\n",
    "    \n",
    "    return z"
   ]
  },
  {
   "cell_type": "markdown",
   "metadata": {},
   "source": [
    "For this homework, we only use power of each variable as terms of basis function and do not use their multiplication. Using this method will cause singular matrices, so we dont use it."
   ]
  },
  {
   "cell_type": "code",
   "execution_count": null,
   "metadata": {},
   "outputs": [],
   "source": [
    "#this solution is for homework, but we dont use it because of making singular matrices\n",
    "#this function makes z table from input data and degree size\n",
    "\n",
    "'''\n",
    "def poly_basis_fun_term(x,m):\n",
    "    \n",
    "    #getting number of data points and number of variables\n",
    "    \n",
    "    n = x.shape[0]\n",
    "    d = x.shape[1]\n",
    "    \n",
    "    #constructing z array with ones at first\n",
    "    \n",
    "    z = np.ones([n,1 + d * m])\n",
    "    \n",
    "    #changing z columns\n",
    "    \n",
    "    count = 0\n",
    "    z[:, 0] = 1\n",
    "    for i in range(1,m+1):\n",
    "        for j in range(d):\n",
    "            z[:, (i-1) * d + (j+1)] = x[:, j] ** i\n",
    "    \n",
    "    return z\n",
    "'''"
   ]
  },
  {
   "cell_type": "markdown",
   "metadata": {},
   "source": [
    "Now we have our z-table and a target vector. We define a function that takes the data, target, polynomial degree and landa as inputs and evaluate the weights vector. Inside the function, it calls poly_basis_fun_term() to turn the input data to \"z-table\". Then we use the formula:\n",
    "\n",
    "##### w = (landa.identity + z(t).z)^(-1) . (z(t).y)\n",
    "\n",
    "where y is target and z is polynomial terms of input data with respect to m which we get from poly_basis_fun_term(). "
   ]
  },
  {
   "cell_type": "code",
   "execution_count": 10,
   "metadata": {},
   "outputs": [],
   "source": [
    "#this function takes z table, target, degree and landa regularization constant\n",
    "#and return the weights vector\n",
    "\n",
    "def w_poly_fitter(x, y, m, landa):\n",
    "    \n",
    "    z = poly_basis_fun_term(x, m)\n",
    "    ztz = np.identity(z.shape[1]) * int(landa) + np.matmul(z.transpose(), z)\n",
    "    ztz_inv = np.linalg.inv(ztz)                        \n",
    "    w = np.matmul(z.transpose(), y)\n",
    "    w = np.matmul(ztz_inv, w)\n",
    "    \n",
    "    return w"
   ]
  },
  {
   "cell_type": "markdown",
   "metadata": {},
   "source": [
    "Now it's time to use our w vector. We define a function that uses data, weights vector and polynomial degree and return its estimation:"
   ]
  },
  {
   "cell_type": "code",
   "execution_count": 11,
   "metadata": {},
   "outputs": [],
   "source": [
    "#this function takes data and calculated weights and degree\n",
    "# and return the estimation of target\n",
    "\n",
    "def poly_predict(x, w, m):\n",
    "    \n",
    "    z = poly_basis_fun_term(x, m)\n",
    "\n",
    "    return np.matmul(z, w)"
   ]
  },
  {
   "cell_type": "markdown",
   "metadata": {},
   "source": [
    "We need a function to takes two vector, in this case our estimation and real target values, and return the error. We use root mean square as error and its formula is:\n",
    "\n",
    "##### E-rms = square root of (inner product of two vectors / number of data points)"
   ]
  },
  {
   "cell_type": "code",
   "execution_count": 12,
   "metadata": {},
   "outputs": [],
   "source": [
    "#this function takes two vector, one as estimation and one as target, then returns the error\n",
    "\n",
    "def rmse(y_target, y_estimate):\n",
    "    \n",
    "    return (sum((y_target - y_estimate) ** 2) / y_target.shape[0])**0.5"
   ]
  },
  {
   "cell_type": "markdown",
   "metadata": {},
   "source": [
    "In this section we want to see how polynomial degree affect our train and test error:"
   ]
  },
  {
   "cell_type": "code",
   "execution_count": 13,
   "metadata": {},
   "outputs": [
    {
     "data": {
      "image/png": "[encoded data removed]",
      "text/plain": [
       "<Figure size 432x288 with 1 Axes>"
      ]
     },
     "metadata": {
      "needs_background": "light"
     },
     "output_type": "display_data"
    }
   ],
   "source": [
    "#different polynomial degree\n",
    "\n",
    "result = np.ones([8,3])\n",
    "\n",
    "for i in range(1, 8):\n",
    "    #find the best w\n",
    "    w = w_poly_fitter(train_data, train_target, i, 0)\n",
    "    \n",
    "    #estimate on train and test set\n",
    "    train_estimate = poly_predict(train_data, w, i)\n",
    "    test_estimate = poly_predict(test_data, w, i)\n",
    "    \n",
    "    #saving the result\n",
    "    result[i,0] = i\n",
    "    result[i,1] = rmse(train_estimate, train_target)\n",
    "    result[i,2] = rmse(test_estimate, test_target)\n",
    "    \n",
    "#plotting the result\n",
    "plt.title('Error vs Polynomial Degree')\n",
    "plt.plot(result[1:,0],result[1:,1], marker = '.', lw = 4, mew = 4)\n",
    "plt.plot(result[1:,0],result[1:,2], marker = '.', lw = 4, mew = 4)\n",
    "plt.ylabel('E-rms')\n",
    "plt.xlabel('Polynomial Degree (m)')\n",
    "plt.yscale('log')\n",
    "plt.show()"
   ]
  },
  {
   "cell_type": "markdown",
   "metadata": {},
   "source": [
    "##### This plot shows that in second degree we have overfitting problem and for degrees higher than two, we wont get a good result."
   ]
  },
  {
   "cell_type": "markdown",
   "metadata": {},
   "source": [
    "Now we want to see the relation between one feature and target:"
   ]
  },
  {
   "cell_type": "code",
   "execution_count": 14,
   "metadata": {},
   "outputs": [
    {
     "data": {
      "image/png": "[encoded data removed]",
      "text/plain": [
       "<Figure size 432x288 with 1 Axes>"
      ]
     },
     "metadata": {
      "needs_background": "light"
     },
     "output_type": "display_data"
    }
   ],
   "source": [
    "#regression with one feature\n",
    "\n",
    "#making a t vector to show later for our curve\n",
    "t = np.arange(-1.8, 3.2, 0.05).reshape((100, 1))\n",
    "m = 3\n",
    "\n",
    "#finding the best w for third feature\n",
    "w = w_poly_fitter(train_data[:,4:5], train_target, m, 0)\n",
    "\n",
    "#estimate on train and test set and on t vector\n",
    "train_estimate = poly_predict(train_data[:,4:5], w, m)\n",
    "test_estimate = poly_predict(test_data[:,4:5], w, m)\n",
    "curve = poly_predict(t, w, m)\n",
    "\n",
    "#plotting the result\n",
    "plt.title('mpg vs Third Feature')\n",
    "plt.plot(train_data[:,3],train_target, marker = '.', lw = 0)\n",
    "plt.plot(test_data[:,3],test_target, marker = '.', lw = 0)\n",
    "plt.plot(t,curve, lw = 1)\n",
    "plt.ylabel('mpg')\n",
    "plt.xlabel('Third Feature')\n",
    "plt.show()"
   ]
  },
  {
   "cell_type": "markdown",
   "metadata": {},
   "source": [
    "##### The blue and orange dots represents train and test dataset and the green line is our learned fitted polynomial curve.\n",
    "important note: we used third degree instead of 8th, because of better result."
   ]
  },
  {
   "cell_type": "markdown",
   "metadata": {},
   "source": [
    "Last part is to see the effect of different landa values on error of estimation:"
   ]
  },
  {
   "cell_type": "code",
   "execution_count": 15,
   "metadata": {},
   "outputs": [
    {
     "data": {
      "image/png": "[encoded data removed]",
      "text/plain": [
       "<Figure size 432x288 with 1 Axes>"
      ]
     },
     "metadata": {
      "needs_background": "light"
     },
     "output_type": "display_data"
    }
   ],
   "source": [
    "#different landa values\n",
    "\n",
    "m = 3\n",
    "result = np.ones([7,3])\n",
    "count = 0\n",
    "\n",
    "for landa in ([0, 0.01, 0.1, 1, 10, 100, 1000]):\n",
    "    #find the best w\n",
    "    w = w_poly_fitter(train_data[:,3:4], train_target, m, landa)\n",
    "    \n",
    "    #estimate on train and test set\n",
    "    train_estimate = poly_predict(train_data[:,3:4], w, m)\n",
    "    test_estimate = poly_predict(test_data[:,3:4], w, m)\n",
    "    \n",
    "    #saving the result\n",
    "    result[count,0] = landa\n",
    "    result[count,1] = rmse(train_estimate, train_target)\n",
    "    result[count,2] = rmse(test_estimate, test_target)\n",
    "    \n",
    "    count += 1\n",
    "\n",
    "#plotting the result\n",
    "plt.title('Error vs Landa Value')\n",
    "plt.plot(result[:,0],result[:,1], marker = '.', lw = 4, mew = 4)\n",
    "plt.plot(result[:,0],result[:,2], marker = '.', lw = 4, mew = 4)\n",
    "plt.ylabel('E-rms')\n",
    "plt.xlabel('Landa')\n",
    "plt.xscale('log')\n",
    "plt.show()"
   ]
  },
  {
   "cell_type": "markdown",
   "metadata": {},
   "source": [
    "##### By increasing the landa value, our error will get bigger."
   ]
  },
  {
   "cell_type": "markdown",
   "metadata": {},
   "source": [
    "### Second Part"
   ]
  },
  {
   "cell_type": "markdown",
   "metadata": {},
   "source": [
    "When working with normalized dataset, evaluating its covariance matrix is easy. We need to multiply its transpose by itself."
   ]
  },
  {
   "cell_type": "code",
   "execution_count": 16,
   "metadata": {},
   "outputs": [],
   "source": [
    "#this function takes a normalized dataset and return its covariance matrix\n",
    "def covar_mat(x):\n",
    "    \n",
    "    return np.matmul(x.transpose(), x)"
   ]
  },
  {
   "cell_type": "markdown",
   "metadata": {},
   "source": [
    "Now we have to define a function to takes data and center of kernel function and its radiuses, then returns the terms of gaussian basis functions which we know as 'z-table'. Then we use this table in next round to compute weights vector."
   ]
  },
  {
   "cell_type": "code",
   "execution_count": 17,
   "metadata": {},
   "outputs": [],
   "source": [
    "#this function makes z-table from input data, centers and s\n",
    "def gaus_basis_fun_term(x, centers, kw):\n",
    "    \n",
    "    z = np.ones([len(x), len(centers)])\n",
    "    covar_inv = np.linalg.inv(covar_mat(x))\n",
    "    count = 0\n",
    "    for center in centers:\n",
    "        for i in range(len(x)):\n",
    "            term = np.matmul(covar_inv, (x[i,:] - center))\n",
    "            term = -(1/2) * np.matmul((x[i,:] - center).transpose() , term)\n",
    "            z[i, count] = np.exp(term / 2 * kw ** 2)\n",
    "        count += 1\n",
    "    \n",
    "    return z"
   ]
  },
  {
   "cell_type": "markdown",
   "metadata": {},
   "source": [
    "We have to use random datapoint as centers. So we define a function which takes a dataset and return n datapoints by random."
   ]
  },
  {
   "cell_type": "code",
   "execution_count": 18,
   "metadata": {},
   "outputs": [],
   "source": [
    "#this function takes a dataset and return n radom sample of that dataset\n",
    "def center_select(x, n):\n",
    "    \n",
    "    index = random.sample(range(len(x)), n)\n",
    "    \n",
    "    return x[index,:]"
   ]
  },
  {
   "cell_type": "code",
   "execution_count": 19,
   "metadata": {},
   "outputs": [],
   "source": [
    "def w_gaus_fitter(x, y, centers, kw, landa):\n",
    "    \n",
    "    z = gaus_basis_fun_term(x, centers, kw)\n",
    "    ztz = np.identity(z.shape[1]) * int(landa) + np.matmul(z.transpose(), z)\n",
    "    ztz_inv = np.linalg.inv(ztz)                        \n",
    "    w = np.matmul(z.transpose(), y)\n",
    "    w = np.matmul(ztz_inv, w)\n",
    "    return w"
   ]
  },
  {
   "cell_type": "code",
   "execution_count": 20,
   "metadata": {},
   "outputs": [],
   "source": [
    "#this function takes data and calculated weights\n",
    "# and return the estimation of target\n",
    "def gaus_predict(x, w, centers, kw):\n",
    "    \n",
    "    z = gaus_basis_fun_term(x, centers, kw)\n",
    "    return np.matmul(z, w)"
   ]
  },
  {
   "cell_type": "markdown",
   "metadata": {},
   "source": [
    "In this section we want to see how number of kernel functions affect our train and test error:"
   ]
  },
  {
   "cell_type": "code",
   "execution_count": 21,
   "metadata": {},
   "outputs": [
    {
     "data": {
      "image/png": "[encoded data removed]",
      "text/plain": [
       "<Figure size 432x288 with 1 Axes>"
      ]
     },
     "metadata": {
      "needs_background": "light"
     },
     "output_type": "display_data"
    }
   ],
   "source": [
    "#different basis function without regularization\n",
    "count = 0\n",
    "result = np.ones([19,3])\n",
    "for i in range(5,100,5):\n",
    "    cen = center_select(train_data, i)\n",
    "    \n",
    "    w = w_gaus_fitter(train_data, train_target, cen, 2, 0)\n",
    "    \n",
    "    train_estimate = gaus_predict(train_data, w, cen, 2)\n",
    "    test_estimate = gaus_predict(test_data, w, cen, 2)\n",
    "    \n",
    "    result[count,1] = rmse(train_estimate, train_target)\n",
    "    result[count,2] = rmse(test_estimate, test_target)\n",
    "    result[count,0] = i\n",
    "    \n",
    "    count += 1\n",
    "    \n",
    "#plotting the result\n",
    "plt.title('Error vs Number of Kernel Functions')\n",
    "plt.plot(result[1:,0],result[1:,1], marker = '.', lw = 4, mew = 4)\n",
    "plt.plot(result[1:,0],result[1:,2], marker = '.', lw = 4, mew = 4)\n",
    "plt.ylabel('E-rms')\n",
    "plt.xlabel('Number of Kernel Functions')\n",
    "plt.yscale('log')\n",
    "plt.show()"
   ]
  },
  {
   "cell_type": "markdown",
   "metadata": {},
   "source": [
    "##### When we increase the number of kernel function, our model fits better on train set, and test set error get larger. In this plot, blue line is the training phase error and the orange one is for testing."
   ]
  },
  {
   "cell_type": "markdown",
   "metadata": {},
   "source": [
    "For the last section we want to see how landa changes the estimation error:"
   ]
  },
  {
   "cell_type": "code",
   "execution_count": 22,
   "metadata": {},
   "outputs": [
    {
     "data": {
      "image/png": "[encoded data removed]",
      "text/plain": [
       "<Figure size 432x288 with 1 Axes>"
      ]
     },
     "metadata": {
      "needs_background": "light"
     },
     "output_type": "display_data"
    }
   ],
   "source": [
    "#different landa values with 90 basis function\n",
    "\n",
    "count = 0\n",
    "result = np.ones([7,3])\n",
    "#we use one set of centers for all landa value\n",
    "cen = center_select(train_data, i)\n",
    "\n",
    "for landa in ([0, 0.01, 0.1, 1, 10, 100, 1000]):\n",
    "    result[count,0] = landa\n",
    "    \n",
    "    w = w_gaus_fitter(train_data, train_target, cen, 2, landa)\n",
    "    \n",
    "    train_estimate = gaus_predict(train_data, w, cen, 2)\n",
    "    test_estimate = gaus_predict(test_data, w, cen, 2)\n",
    "    \n",
    "    result[count,1] = rmse(train_estimate, train_target)\n",
    "    result[count,2] = rmse(test_estimate, test_target)\n",
    "    \n",
    "    count += 1\n",
    "\n",
    "#plotting the result\n",
    "plt.title('Error vs Landa Value')\n",
    "plt.plot(result[:,0],result[:,1], marker = '.', lw = 4, mew = 4)\n",
    "plt.plot(result[:,0],result[:,2], marker = '.', lw = 4, mew = 4)\n",
    "plt.ylabel('E-rms')\n",
    "plt.xlabel('Landa')\n",
    "plt.xscale('log')\n",
    "plt.yscale('log')\n",
    "plt.show()"
   ]
  },
  {
   "cell_type": "markdown",
   "metadata": {},
   "source": [
    "##### As we see, for larger value of landa we have more modeate result. Our train error gets bigger, but we have a better prediction for test set. Infact our model fits better by increasing landa in this range."
   ]
  }
 ],
 "metadata": {
  "kernelspec": {
   "display_name": "Python 3",
   "language": "python",
   "name": "python3"
  },
  "language_info": {
   "codemirror_mode": {
    "name": "ipython",
    "version": 3
   },
   "file_extension": ".py",
   "mimetype": "text/x-python",
   "name": "python",
   "nbconvert_exporter": "python",
   "pygments_lexer": "ipython3",
   "version": "3.8.10"
  }
 },
 "nbformat": 4,
 "nbformat_minor": 4
}
